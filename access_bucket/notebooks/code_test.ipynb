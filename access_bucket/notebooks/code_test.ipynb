{
 "cells": [
  {
   "cell_type": "code",
   "execution_count": 4,
   "id": "409eb17f",
   "metadata": {},
   "outputs": [
    {
     "name": "stdout",
     "output_type": "stream",
     "text": [
      "The autoreload extension is already loaded. To reload it, use:\n",
      "  %reload_ext autoreload\n"
     ]
    }
   ],
   "source": [
    "import glob\n",
    "\n",
    "from access_bucket.access_bucket import AccessBucket\n",
    "from pathlib import Path\n",
    "%load_ext autoreload\n",
    "import os\n",
    "%autoreload 2"
   ]
  },
  {
   "cell_type": "code",
   "execution_count": 2,
   "id": "769ac69a-55e8-4a53-99e7-5759a9d223a3",
   "metadata": {},
   "outputs": [],
   "source": [
    "aws_access_key_id = os.environ.get(\"BUCKET_TOKEN\")\n",
    "aws_secret_access_key = os.environ.get(\"BUCKET_SECRET\")\n",
    "endpoint_url = os.environ.get(\"BUCKET_API_URL\")"
   ]
  },
  {
   "cell_type": "code",
   "execution_count": 3,
   "id": "1975effe-ffdc-473c-a8ee-febce76ddbae",
   "metadata": {},
   "outputs": [],
   "source": [
    "a = AccessBucket(aws_access_key_id=aws_access_key_id,\n",
    "                 aws_secret_access_key=aws_secret_access_key,\n",
    "                 endpoint_url=endpoint_url,\n",
    "                 bucket='haig-fas')"
   ]
  },
  {
   "cell_type": "markdown",
   "id": "08be0a19",
   "metadata": {},
   "source": [
    "## LS"
   ]
  },
  {
   "cell_type": "code",
   "execution_count": 7,
   "id": "8b2d07ae",
   "metadata": {},
   "outputs": [],
   "source": [
    "# a.ls(bucket_folder='')"
   ]
  },
  {
   "cell_type": "code",
   "execution_count": null,
   "id": "d4c1dc7f-96d4-407d-8260-55ddc8b7e70b",
   "metadata": {},
   "outputs": [],
   "source": [
    "a.ls(bucket_folder='layers/seabed_images/hf2012/images', prefix=\"M58_10441297_1298774480\")"
   ]
  },
  {
   "cell_type": "code",
   "execution_count": 6,
   "id": "d6faa0b3-3640-458b-a469-160319942780",
   "metadata": {
    "scrolled": true,
    "tags": []
   },
   "outputs": [
    {
     "name": "stdout",
     "output_type": "stream",
     "text": [
      "layers/bathymetry/emodnet/emodnet_2020.tif\n",
      "layers/bathymetry/gebco/gebco_2022.tif\n",
      "layers/bathymetry/shipborne_2018/Haig_Fras_2018_5m.csar.txt\n",
      "layers/bathymetry/shipborne_2018/shipborne_2018.tif\n"
     ]
    }
   ],
   "source": [
    "a.ls(bucket_folder='layers/bathymetry/')"
   ]
  },
  {
   "cell_type": "code",
   "execution_count": 7,
   "id": "af62c3e8",
   "metadata": {},
   "outputs": [
    {
     "name": "stdout",
     "output_type": "stream",
     "text": [
      "layers/bathymetry/shipborne_2018/shipborne_2018.tif\n",
      "layers/sidescan/sidescan_2012/sidescan_2012.tif\n"
     ]
    }
   ],
   "source": [
    "a.ls(bucket_folder='layers/')"
   ]
  },
  {
   "cell_type": "markdown",
   "id": "7d10e1e1",
   "metadata": {},
   "source": [
    "## RM"
   ]
  },
  {
   "cell_type": "code",
   "execution_count": 17,
   "id": "b58b61f3",
   "metadata": {},
   "outputs": [],
   "source": [
    "# a.rm(bucket_folder='stac', verbose=1, force=True)"
   ]
  },
  {
   "cell_type": "code",
   "execution_count": 56,
   "id": "4b8794f9",
   "metadata": {},
   "outputs": [
    {
     "name": "stdout",
     "output_type": "stream",
     "text": [
      "You are going to remove s3://haig-fras/frontend/assets/index-004cbfd0.css\n",
      "Are you sure? (y/n)y\n",
      "File s3://haig-fras/frontend/assets/index-004cbfd0.css removed!\n",
      "You are going to remove s3://haig-fras/frontend/assets/index-f5c7374f.js\n",
      "Are you sure? (y/n)y\n",
      "File s3://haig-fras/frontend/assets/index-f5c7374f.js removed!\n",
      "You are going to remove directory s3://haig-fras/frontend/assets/\n",
      "Are you sure? (y/n)y\n",
      "Directory s3://haig-fras/frontend/assets/ removed!\n"
     ]
    }
   ],
   "source": [
    "a.rm(bucket_folder='frontend/assets', verbose=1)"
   ]
  },
  {
   "cell_type": "code",
   "execution_count": 66,
   "id": "73eb3e2f",
   "metadata": {},
   "outputs": [
    {
     "name": "stdout",
     "output_type": "stream",
     "text": [
      "You are going to remove s3://haig-fras/layers/seabed_images/nbn/nbn_refined.csv\n",
      "Are you sure? (y/n)y\n",
      "File s3://haig-fras/layers/seabed_images/nbn/nbn_refined.csv removed!\n"
     ]
    }
   ],
   "source": [
    "a.rm(bucket_folder='layers/seabed_images/nbn', filename='nbn_refined.csv', verbose=1)"
   ]
  },
  {
   "cell_type": "markdown",
   "id": "14c87e5c",
   "metadata": {},
   "source": [
    "## MKDIR"
   ]
  },
  {
   "cell_type": "code",
   "execution_count": 134,
   "id": "56599400",
   "metadata": {},
   "outputs": [],
   "source": [
    "a.mkdir(bucket_folder='layers/sidescan/sidescan_2012')"
   ]
  },
  {
   "cell_type": "markdown",
   "id": "e43243d0",
   "metadata": {},
   "source": [
    "## MOVE"
   ]
  },
  {
   "cell_type": "code",
   "execution_count": 58,
   "id": "7395964e",
   "metadata": {},
   "outputs": [
    {
     "name": "stdout",
     "output_type": "stream",
     "text": [
      "Moved/renamed s3://haig-fras/layers/nbn/ to s3://haig-fras/layers/seabed_images/nbn/\n",
      "Moved/renamed s3://haig-fras/layers/nbn/nbn_refined.csv to s3://haig-fras/layers/seabed_images/nbn/nbn_refined.csv\n"
     ]
    }
   ],
   "source": [
    "a.mv(\n",
    "    bucket_folder='layers/bathymetry/',\n",
    "    output_folder='layers/seabed_images/nbn',\n",
    "    verbose=1,\n",
    ")"
   ]
  },
  {
   "cell_type": "code",
   "execution_count": 6,
   "id": "62a515e3",
   "metadata": {},
   "outputs": [],
   "source": [
    "a.mv(\n",
    "    bucket_folder='layers/bathymetry/',\n",
    "    output_folder='frontend/images',\n",
    "    input_filename='bathymetry.tif'\n",
    ")"
   ]
  },
  {
   "cell_type": "code",
   "execution_count": 52,
   "id": "e25eb482",
   "metadata": {},
   "outputs": [],
   "source": [
    "\n",
    "a.mv(\n",
    "    bucket_folder='output',\n",
    "    input_filename='cum_hill_values_sand.csv',\n",
    "    output_filename='HF2012_cum_hill_values_sand.csv'\n",
    ")"
   ]
  },
  {
   "cell_type": "code",
   "execution_count": 88,
   "id": "b45beaf7",
   "metadata": {},
   "outputs": [],
   "source": [
    "a.mv(bucket_folder='mbtiles', output_folder='frontend', input_filename='bathymetry.tif')"
   ]
  },
  {
   "cell_type": "markdown",
   "id": "e8cc8598",
   "metadata": {},
   "source": [
    "## RENAME"
   ]
  },
  {
   "cell_type": "code",
   "execution_count": 29,
   "id": "cb1b1846",
   "metadata": {
    "scrolled": true,
    "tags": []
   },
   "outputs": [],
   "source": [
    "a.mv(\n",
    "    bucket_folder='layers/seabed_images/jncc/images',\n",
    "    sufix='.JPG',\n",
    "    replace=['.JPG', '.jpg'],\n",
    "    verbose=1\n",
    ")"
   ]
  },
  {
   "cell_type": "code",
   "execution_count": 11,
   "id": "2a5fa73e-9b3e-40ab-a235-fd2aacbeb3dd",
   "metadata": {},
   "outputs": [],
   "source": [
    "a.mv(\n",
    "    bucket_folder='layers/bathymetry/gebco',\n",
    "    input_filename='GEBCO_2023.tif',\n",
    "    output_filename='gebco_2023.tif'\n",
    ")"
   ]
  },
  {
   "cell_type": "markdown",
   "id": "8d4fa0d8",
   "metadata": {},
   "source": [
    "## COPY"
   ]
  },
  {
   "cell_type": "code",
   "execution_count": 101,
   "id": "42e0ad4a",
   "metadata": {},
   "outputs": [],
   "source": [
    "a.mv(\n",
    "    bucket_folder='mbtiles',\n",
    "    output_folder='layers/seabed_habitats/habitat_map',\n",
    "    input_filename='habitats_new-65536.mbtiles',\n",
    "    output_filename='habitat_map.mbtiles'\n",
    ")"
   ]
  },
  {
   "cell_type": "markdown",
   "id": "4690d85a",
   "metadata": {},
   "source": [
    "## UPLOAD"
   ]
  },
  {
   "cell_type": "code",
   "execution_count": 8,
   "id": "b4d2c7bc-f65e-43a8-b28e-82fd45c48e38",
   "metadata": {
    "scrolled": true,
    "tags": []
   },
   "outputs": [
    {
     "name": "stdout",
     "output_type": "stream",
     "text": [
      "Uploaded file s3://galene/total_color_sum_2021-02.tiff\n",
      "Uploaded file s3://galene/total_color_sum_2021-03.tiff\n",
      "Uploaded file s3://galene/total_color_sum_2021-01.tiff\n",
      "Uploaded file s3://galene/total_color_sum_2021-06.tiff\n",
      "Uploaded file s3://galene/total_color_sum_2021-05.tiff\n",
      "Uploaded file s3://galene/total_color_sum_2021-04.tiff\n"
     ]
    }
   ],
   "source": [
    "path = '/home/tobfer/Downloads/results2/'\n",
    "# path = '/home/tobfer/Downloads/image-conversion-galene_history-20231118T183537Z-001/image-conversion-galene_history/'\n",
    "filenames = os.listdir(path)\n",
    "filenames = [filename for filename in filenames if os.path.isfile(os.path.join(path, filename))]\n",
    "a.upload(file_names=filenames, path=path, bucket_folder='', verbose=1)"
   ]
  },
  {
   "cell_type": "code",
   "execution_count": 9,
   "id": "cde82757-aa25-4bc8-8f98-3df8d850d170",
   "metadata": {},
   "outputs": [
    {
     "name": "stdout",
     "output_type": "stream",
     "text": [
      "Uploaded file s3://haig-fras/layers/bathymetry/emodnet/emodnet_2022.tif\n"
     ]
    }
   ],
   "source": [
    "path = '/mnt/code/code/noc/imfepilot/data_pipelines/raw_data/'\n",
    "filenames = ['emodnet_2022.tif']\n",
    "a.upload(filenames=filenames, path=path, bucket_folder='layers/bathymetry/emodnet', verbose=1)"
   ]
  },
  {
   "cell_type": "code",
   "execution_count": 6,
   "id": "11c3271a-5723-4678-8c1d-4f6037b8f13e",
   "metadata": {},
   "outputs": [
    {
     "data": {
      "text/plain": [
       "'output_GEBCO_2023.nc'"
      ]
     },
     "execution_count": 6,
     "metadata": {},
     "output_type": "execute_result"
    }
   ],
   "source": [
    "output_file.split('/')[-1]"
   ]
  },
  {
   "cell_type": "code",
   "execution_count": 5,
   "id": "12b6342d",
   "metadata": {},
   "outputs": [
    {
     "name": "stdout",
     "output_type": "stream",
     "text": [
      "Uploaded file s3://haig-fras/layers/seabed_images/hf2012/HF2012_alltile_otherdata.csv\n"
     ]
    }
   ],
   "source": [
    "path = '/home/tobfer/Downloads/'\n",
    "filenames = ['HF2012_alltile_otherdata.csv']\n",
    "a.upload(filenames=filenames, path=path, bucket_folder='layers/seabed_images/hf2012', verbose=1)"
   ]
  },
  {
   "cell_type": "code",
   "execution_count": 13,
   "id": "180969e6",
   "metadata": {},
   "outputs": [
    {
     "name": "stdout",
     "output_type": "stream",
     "text": [
      "Uploaded file s3://haig-fras/layers/frontend/website.json\n"
     ]
    }
   ],
   "source": [
    "path = '/mnt/code/code/noc/imfepilot/frontend/public/'\n",
    "filenames = ['website.json']\n",
    "a.upload(filenames=filenames, path=path, bucket_folder='layers/frontend', verbose=1)"
   ]
  },
  {
   "cell_type": "code",
   "execution_count": 4,
   "id": "b5effed5-63aa-4e68-89fb-e720a03ec895",
   "metadata": {},
   "outputs": [
    {
     "name": "stdout",
     "output_type": "stream",
     "text": [
      "Uploaded file s3://haig-fras/layers/seabed_images/nbn/nbn.csv\n"
     ]
    }
   ],
   "source": [
    "path = '/home/tobfer/Downloads/'\n",
    "filenames = ['nbn.csv']\n",
    "a.upload(filenames=filenames, path=path, bucket_folder='layers/seabed_images/nbn', verbose=1)"
   ]
  },
  {
   "cell_type": "code",
   "execution_count": 18,
   "id": "6fe0ad92-8d61-48e8-bc7d-94ee7aa97f48",
   "metadata": {},
   "outputs": [
    {
     "name": "stdout",
     "output_type": "stream",
     "text": [
      "Uploaded file s3://haig-fras/layers/seabed_images/hf2015/HF2015_SU.csv\n"
     ]
    }
   ],
   "source": [
    "path = '/home/tobfer/Downloads/OneDrive_2023-09-22/'\n",
    "filenames = ['HF2015_SU.csv']\n",
    "a.upload(filenames=filenames, path=path, bucket_folder='layers/seabed_images/hf2015', verbose=1)"
   ]
  },
  {
   "cell_type": "code",
   "execution_count": 13,
   "id": "1a5db83f-8710-43da-b90b-ed460e035df3",
   "metadata": {},
   "outputs": [
    {
     "name": "stdout",
     "output_type": "stream",
     "text": [
      "JNCC_CEND1012_otherdata.csv\n",
      "Uploaded file s3://haig-fras/layers/seabed_images/jncc/JNCC_CEND1012_otherdata.csv\n"
     ]
    }
   ],
   "source": [
    "a.upload(filenames=filenames, path=path, bucket_folder='layers/seabed_images/jncc', verbose=1)"
   ]
  },
  {
   "cell_type": "code",
   "execution_count": null,
   "id": "c9d7de75",
   "metadata": {},
   "outputs": [],
   "source": [
    "pilot-imfe-o.s3-ext.jc.rl.ac.uk/haig-fras/3d/cog_rep_EMODNet_2020_new.tif"
   ]
  },
  {
   "cell_type": "code",
   "execution_count": 3,
   "id": "129c0c14",
   "metadata": {},
   "outputs": [
    {
     "name": "stdout",
     "output_type": "stream",
     "text": [
      "results.csv\n"
     ]
    },
    {
     "name": "stderr",
     "output_type": "stream",
     "text": [
      "/home/tobfer/.pyenv/versions/3.10.6/envs/imfepilot/lib/python3.10/site-packages/urllib3/connectionpool.py:1045: InsecureRequestWarning: Unverified HTTPS request is being made to host 'pilot-imfe-o.s3-ext.jc.rl.ac.uk'. Adding certificate verification is strongly advised. See: https://urllib3.readthedocs.io/en/1.26.x/advanced-usage.html#ssl-warnings\n",
      "  warnings.warn(\n"
     ]
    },
    {
     "name": "stdout",
     "output_type": "stream",
     "text": [
      "{'ResponseMetadata': {'RequestId': '528751F28322C998', 'HostId': '', 'HTTPStatusCode': 200, 'HTTPHeaders': {'connection': 'close', 'date': 'Fri, 30 Jun 2023 12:25:48 GMT', 'x-amz-request-id': '528751F28322C998', 'server': 'CAStor Cluster/14.1.2', 'via': '1.1 pilot-imfe-o.s3-ext.jc.rl.ac.uk (Cloud Gateway S3/7.8.0)', 'gateway-protocol': 's3', 'etag': '\"8d31aeccfc8b321345bc9fe568453ebb\"'}, 'RetryAttempts': 0}, 'ETag': '\"8d31aeccfc8b321345bc9fe568453ebb\"'}\n",
      "upload done\n"
     ]
    }
   ],
   "source": [
    "a = AccessJasmin(bucket='haig-fras')\n",
    "path = '/home/tobfer/code/noc/imfepilot/bodc-code/scripts/worms_species_match/data/'\n",
    "\n",
    "filenames = [\n",
    "    'results.csv'\n",
    "]\n",
    "a.upload(filenames=filenames, path=path, bucket_folder='nbn')"
   ]
  },
  {
   "cell_type": "code",
   "execution_count": 4,
   "id": "bdacc8d2",
   "metadata": {},
   "outputs": [],
   "source": [
    "a = AccessJasmin(bucket='haig-fras-private')"
   ]
  },
  {
   "cell_type": "code",
   "execution_count": 18,
   "id": "f6cc8217",
   "metadata": {},
   "outputs": [
    {
     "name": "stdout",
     "output_type": "stream",
     "text": [
      "shipborne_2018.tif\n",
      "Uploaded file s3://haig-fras-private/layers/bathymetry/shipborne_2018/shipborne_2018.tif\n"
     ]
    }
   ],
   "source": [
    "path = '/home/tobfer/Downloads/'\n",
    "filenames = ['shipborne_2018.tif']\n",
    "a.upload(filenames=filenames, path=path, bucket_folder='layers/bathymetry/shipborne_2018', verbose=1)"
   ]
  },
  {
   "cell_type": "code",
   "execution_count": null,
   "id": "d9873f0a",
   "metadata": {},
   "outputs": [],
   "source": []
  }
 ],
 "metadata": {
  "kernelspec": {
   "display_name": "Python 3 (ipykernel)",
   "language": "python",
   "name": "python3"
  },
  "language_info": {
   "codemirror_mode": {
    "name": "ipython",
    "version": 3
   },
   "file_extension": ".py",
   "mimetype": "text/x-python",
   "name": "python",
   "nbconvert_exporter": "python",
   "pygments_lexer": "ipython3",
   "version": "3.8.12"
  },
  "toc": {
   "base_numbering": 1,
   "nav_menu": {},
   "number_sections": true,
   "sideBar": true,
   "skip_h1_title": false,
   "title_cell": "Table of Contents",
   "title_sidebar": "Contents",
   "toc_cell": false,
   "toc_position": {},
   "toc_section_display": true,
   "toc_window_display": false
  }
 },
 "nbformat": 4,
 "nbformat_minor": 5
}
